{
 "cells": [
  {
   "cell_type": "markdown",
   "metadata": {},
   "source": [
    "# Q1)"
   ]
  },
  {
   "cell_type": "code",
   "execution_count": 17,
   "metadata": {},
   "outputs": [
    {
     "name": "stdout",
     "output_type": "stream",
     "text": [
      "12\n",
      "34\n",
      "56\n",
      "33\n",
      "88\n",
      "45\n",
      "62\n",
      "71\n",
      "98\n",
      "70\n"
     ]
    }
   ],
   "source": [
    "a=[]\n",
    "for i in range(10):\n",
    "    b=int(input())\n",
    "    c=b%2\n",
    "    if c==0:\n",
    "        a.append(b)"
   ]
  },
  {
   "cell_type": "code",
   "execution_count": 18,
   "metadata": {},
   "outputs": [
    {
     "name": "stdout",
     "output_type": "stream",
     "text": [
      "[12, 34, 56, 88, 62, 98, 70]\n"
     ]
    }
   ],
   "source": [
    "print(a)"
   ]
  },
  {
   "cell_type": "markdown",
   "metadata": {},
   "source": [
    "# Q2)"
   ]
  },
  {
   "cell_type": "code",
   "execution_count": 23,
   "metadata": {},
   "outputs": [
    {
     "name": "stdout",
     "output_type": "stream",
     "text": [
      "WHO\n",
      "which\n",
      "WhAt\n",
      "Mys3l4\n",
      "N0t@tall\n",
      "-8u\n",
      "+8.75\n",
      "-74.67\n",
      "56.2\n",
      "i+3j\n",
      "['WHO', 'which', 'WhAt', 'Mys3l4', 'N0t@tall', '-8u', '+8.75', '-74.67', '56.2', 'i+3j']\n"
     ]
    }
   ],
   "source": [
    "a= [ input() for i in range(10) ]\n",
    "print(a)"
   ]
  },
  {
   "cell_type": "markdown",
   "metadata": {},
   "source": [
    "# Q3)"
   ]
  },
  {
   "cell_type": "code",
   "execution_count": 28,
   "metadata": {},
   "outputs": [
    {
     "name": "stdout",
     "output_type": "stream",
     "text": [
      "9\n"
     ]
    }
   ],
   "source": [
    "a={}\n",
    "c=1\n",
    "n=int(input())\n",
    "for i in range(1,n+1):\n",
    "    b=i*i\n",
    "    a[c]=b\n",
    "    c=c+1\n",
    "    i=i+1"
   ]
  },
  {
   "cell_type": "code",
   "execution_count": 29,
   "metadata": {},
   "outputs": [
    {
     "name": "stdout",
     "output_type": "stream",
     "text": [
      "{1: 1, 2: 4, 3: 9, 4: 16, 5: 25, 6: 36, 7: 49, 8: 64, 9: 81},"
     ]
    }
   ],
   "source": [
    "print(a,end=\",\")"
   ]
  },
  {
   "cell_type": "markdown",
   "metadata": {},
   "source": [
    "# Q4"
   ]
  },
  {
   "cell_type": "code",
   "execution_count": 9,
   "metadata": {},
   "outputs": [
    {
     "name": "stdout",
     "output_type": "stream",
     "text": [
      "4\n",
      "UP 5\n",
      "DOWN 3\n",
      "LEFT 3\n",
      "RIGHT 2\n",
      "2\n"
     ]
    }
   ],
   "source": [
    "import math\n",
    "x, y = 0, 0\n",
    "a=int(input())\n",
    "for i in range(a):\n",
    "    step = input()\n",
    "    step=step.split(\" \")\n",
    "    if step[0] == \"UP\":\n",
    "        y = y + int(step[1])\n",
    "    elif step[0] == \"DOWN\":\n",
    "        y = y - int(step[1])\n",
    "    elif step[0] == \"LEFT\":\n",
    "        x = x - int(step[1])\n",
    "    elif step[0] == \"RIGHT\":\n",
    "        x = x + int(step[1])\n",
    "c = math.sqrt(x**2 + y**2)\n",
    "print(int(c))"
   ]
  }
 ],
 "metadata": {
  "kernelspec": {
   "display_name": "Python 3",
   "language": "python",
   "name": "python3"
  },
  "language_info": {
   "codemirror_mode": {
    "name": "ipython",
    "version": 3
   },
   "file_extension": ".py",
   "mimetype": "text/x-python",
   "name": "python",
   "nbconvert_exporter": "python",
   "pygments_lexer": "ipython3",
   "version": "3.8.3"
  }
 },
 "nbformat": 4,
 "nbformat_minor": 4
}
