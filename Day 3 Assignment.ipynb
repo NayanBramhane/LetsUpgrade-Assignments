{
 "cells": [
  {
   "cell_type": "code",
   "execution_count": 3,
   "metadata": {},
   "outputs": [],
   "source": [
    "import numpy as np"
   ]
  },
  {
   "cell_type": "markdown",
   "metadata": {},
   "source": [
    "# Q1)"
   ]
  },
  {
   "cell_type": "code",
   "execution_count": 18,
   "metadata": {},
   "outputs": [
    {
     "data": {
      "text/plain": [
       "array([ 2,  5,  8, 11, 14, 17, 20, 23, 26, 29, 32, 35, 38, 41, 44, 47, 50])"
      ]
     },
     "execution_count": 18,
     "metadata": {},
     "output_type": "execute_result"
    }
   ],
   "source": [
    "np.arange(2,51,3)"
   ]
  },
  {
   "cell_type": "markdown",
   "metadata": {},
   "source": [
    "# Q2)"
   ]
  },
  {
   "cell_type": "code",
   "execution_count": 19,
   "metadata": {},
   "outputs": [
    {
     "name": "stdout",
     "output_type": "stream",
     "text": [
      "12\n",
      "54\n",
      "34\n",
      "65\n",
      "78\n",
      "08\n",
      "68\n",
      "54\n",
      "56\n",
      "76\n",
      "Concatenated :  ['12' '34' '78' '68' '56' '54' '65' '08' '54' '76']\n",
      "Sorted array :  ['08' '12' '34' '54' '54' '56' '65' '68' '76' '78']\n"
     ]
    }
   ],
   "source": [
    "y=[]\n",
    "z=[]\n",
    "for i in range(5): \n",
    "    a = input()\n",
    "    y.append(a)\n",
    "    b = input()\n",
    "    z.append(b)\n",
    "c=np.array(y)\n",
    "d=np.array(z)\n",
    "e=np.concatenate((c,d))\n",
    "print(\"Concatenated : \",e)\n",
    "print(\"Sorted array : \",np.sort(e))"
   ]
  },
  {
   "cell_type": "markdown",
   "metadata": {},
   "source": [
    "# Q3)"
   ]
  },
  {
   "cell_type": "code",
   "execution_count": 17,
   "metadata": {},
   "outputs": [
    {
     "name": "stdout",
     "output_type": "stream",
     "text": [
      "No. of elements : 3\n",
      "Type elements : 7\n",
      "Type elements : 4\n",
      "Type elements : 9\n",
      "Dimension :  1\n",
      "Size :  3\n"
     ]
    }
   ],
   "source": [
    "n=int(input(\"No. of elements : \"))\n",
    "a=[]\n",
    "for i in range(n): \n",
    "    b = input(\"Type elements : \")\n",
    "    a.append(b)\n",
    "c=np.array(a)    \n",
    "print(\"Dimension : \",c.ndim)\n",
    "print(\"Size : \",c.size)"
   ]
  },
  {
   "cell_type": "markdown",
   "metadata": {},
   "source": [
    "# Q4)"
   ]
  },
  {
   "cell_type": "code",
   "execution_count": 20,
   "metadata": {},
   "outputs": [
    {
     "name": "stdout",
     "output_type": "stream",
     "text": [
      "2\n",
      "Test 1D array : (2,)\n",
      "Test 2D array for row is : (1, 2)\n",
      "Test 2D array for column is : (2, 1)\n"
     ]
    }
   ],
   "source": [
    "z = np.arange(int(input()))\n",
    "print(\"Test 1D array :\", z.shape)\n",
    "a= z[np.newaxis]\n",
    "print(\"Test 2D array for row is :\", a.shape)\n",
    "b= z[:, np.newaxis]\n",
    "print(\"Test 2D array for column is :\", b.shape)"
   ]
  }
 ],
 "metadata": {
  "kernelspec": {
   "display_name": "Python 3",
   "language": "python",
   "name": "python3"
  },
  "language_info": {
   "codemirror_mode": {
    "name": "ipython",
    "version": 3
   },
   "file_extension": ".py",
   "mimetype": "text/x-python",
   "name": "python",
   "nbconvert_exporter": "python",
   "pygments_lexer": "ipython3",
   "version": "3.8.3"
  }
 },
 "nbformat": 4,
 "nbformat_minor": 4
}
